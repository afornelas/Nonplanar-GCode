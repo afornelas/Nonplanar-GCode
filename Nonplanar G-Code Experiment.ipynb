{
 "cells": [
  {
   "attachments": {},
   "cell_type": "markdown",
   "metadata": {},
   "source": [
    "# Kisailus Biomimetics & Nanostructured Materials Lab Non Planar GCode\n",
    "\n",
    "Written by Adrian Ornelas for avian bone inspired drone cage impact protection bumper\n",
    "\n",
    "## Theory\n",
    "\n",
    "Inside avian bones, two major features occur in the thin walled ellipsoid that greatly decrease the maximum stress and reduce local buckling: Ridges and Struts. In order to manufacture an avian bone inspired bumper, we require 3 major parts: the thin walled ellipsoid (mimiced with Epoxy), Struts (mimiced in nylon rods manufactured in this program), and ridges (along direction of rod mimiced with a lightweight fiber matrix). The struts discussed function best at an angle, this program will parametrically create nonplanar GCode based on specified parameters in order to make a manufacturable strut \"skeleton\" to create the synthetic avian bone.\n",
    "\n",
    "## Design\n",
    "\n",
    "In order to mimic struts using additive manufacturing techniques, custom G-Code is written for the Ender 2 Pro and Ultimaker S5 to be able to print in all 3 cartesian directions simulataneously. By doing this we avoid the common additive manufacturing problem of poor layer adhesion negatively impacted curved components.\n",
    "\n",
    "### Implementation Plan\n",
    "\n",
    "- Implement n-gon arcs that follow points in 2D\n",
    "- Translate points by an angle across Z\n",
    "- Given collection of movements, create GCode encoding instrutions\n",
    "\n",
    "First Commit 🥳"
   ]
  },
  {
   "cell_type": "code",
   "execution_count": null,
   "metadata": {},
   "outputs": [],
   "source": []
  }
 ],
 "metadata": {
  "kernelspec": {
   "display_name": "Python 3",
   "language": "python",
   "name": "python3"
  },
  "language_info": {
   "name": "python",
   "version": "3.9.4 (tags/v3.9.4:1f2e308, Apr  6 2021, 13:40:21) [MSC v.1928 64 bit (AMD64)]"
  },
  "orig_nbformat": 4,
  "vscode": {
   "interpreter": {
    "hash": "ea9b272258afa1abfc4795a9ba2332d37b8bbd34a23cf80cd4efcdd03ce744c2"
   }
  }
 },
 "nbformat": 4,
 "nbformat_minor": 2
}
